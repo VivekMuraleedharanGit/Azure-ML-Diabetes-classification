{
 "cells": [
  {
   "cell_type": "code",
   "execution_count": 4,
   "metadata": {},
   "outputs": [
    {
     "name": "stdout",
     "output_type": "stream",
     "text": [
      "The predicted class is  1\n"
     ]
    }
   ],
   "source": [
    "import urllib.request\n",
    "import json\n",
    "\n",
    "data = {\n",
    "        \"Inputs\": {\n",
    "                \"input1\":\n",
    "                [\n",
    "                    {\n",
    "                            'Number of times pregnant': \"6\",   \n",
    "                            'Plasma glucose concentration a 2 hours in an oral glucose tolerance test': \"148\",   \n",
    "                            'Diastolic blood pressure (mm Hg)': \"72\",   \n",
    "                            'Triceps skin fold thickness (mm)': \"35\",   \n",
    "                            '2-Hour serum insulin (mu U/ml)': \"0\",   \n",
    "                            'Body mass index (weight in kg/(height in m)^2)': \"33.6\",   \n",
    "                            'Diabetes pedigree function': \"0.627\",   \n",
    "                            'Age (years)': \"50\",   \n",
    "                            'Class variable (0 or 1)': \"1\",   \n",
    "                    }\n",
    "                ],\n",
    "        },\n",
    "    \"GlobalParameters\":  {\n",
    "    }\n",
    "}\n",
    "\n",
    "body = str.encode(json.dumps(data))\n",
    "\n",
    "url = 'https://ussouthcentral.services.azureml.net/workspaces/38971a33298845a39d087815aa6b1fac/services/34900660b0c74cfab9fe97174073c167/execute?api-version=2.0&format=swagger'\n",
    "api_key = 'jSA1ewjvd12uy3rFzeCQGhTq9p98HB78FOIKCczpByrkPJbf2/5+8U0IKHfHsXSw01WDDy/1CT7l25CHfFdr9Q==' # Replace this with the API key for the web service\n",
    "headers = {'Content-Type':'application/json', 'Authorization':('Bearer '+ api_key)}\n",
    "\n",
    "req = urllib.request.Request(url, body, headers)\n",
    "\n",
    "try:\n",
    "    response = urllib.request.urlopen(req)\n",
    "\n",
    "    result = response.read()\n",
    "    #print(result)\n",
    "    print('The predicted class is ',json.loads(result)['Results']['output1'][0]['Scored Labels'])\n",
    "except urllib.error.HTTPError as error:\n",
    "    print(\"The request failed with status code: \" + str(error.code))\n",
    "\n",
    "    # Print the headers - they include the requert ID and the timestamp, which are useful for debugging the failure\n",
    "    print(error.info())\n",
    "    print(json.loads(error.read().decode(\"utf8\", 'ignore')))"
   ]
  },
  {
   "cell_type": "code",
   "execution_count": null,
   "metadata": {},
   "outputs": [],
   "source": []
  }
 ],
 "metadata": {
  "kernelspec": {
   "display_name": "Python 3",
   "language": "python",
   "name": "python3"
  },
  "language_info": {
   "codemirror_mode": {
    "name": "ipython",
    "version": 3
   },
   "file_extension": ".py",
   "mimetype": "text/x-python",
   "name": "python",
   "nbconvert_exporter": "python",
   "pygments_lexer": "ipython3",
   "version": "3.7.1"
  }
 },
 "nbformat": 4,
 "nbformat_minor": 2
}
